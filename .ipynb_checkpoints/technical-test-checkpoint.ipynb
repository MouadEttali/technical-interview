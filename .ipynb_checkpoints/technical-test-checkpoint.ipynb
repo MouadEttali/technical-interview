{
 "cells": [
  {
   "cell_type": "code",
   "execution_count": 2,
   "id": "b38e738a-9c5c-4ae1-a0e8-dd33375e5c6e",
   "metadata": {},
   "outputs": [
    {
     "name": "stdout",
     "output_type": "stream",
     "text": [
      "\u001b[1m\u001b[33mwarning\u001b[39m\u001b[0m\u001b[1m:\u001b[0m \u001b[1m`VIRTUAL_ENV=/home/mouad/.cache/uv/archive-v0/2WB6gs-HkvKMX77EjFo40` does not match the project environment path `.venv` and will be ignored\u001b[0m\n",
      "\u001b[2K\u001b[2mResolved \u001b[1m40 packages\u001b[0m \u001b[2min 191ms\u001b[0m\u001b[0m                                        \u001b[0m\n",
      "\u001b[2K\u001b[2mPrepared \u001b[1m4 packages\u001b[0m \u001b[2min 668ms\u001b[0m\u001b[0m                                             \n",
      "\u001b[2K\u001b[2mInstalled \u001b[1m4 packages\u001b[0m \u001b[2min 60ms\u001b[0m\u001b[0m                                \u001b[0m\n",
      " \u001b[32m+\u001b[39m \u001b[1mnumpy\u001b[0m\u001b[2m==2.2.1\u001b[0m\n",
      " \u001b[32m+\u001b[39m \u001b[1mpandas\u001b[0m\u001b[2m==2.2.3\u001b[0m\n",
      " \u001b[32m+\u001b[39m \u001b[1mpytz\u001b[0m\u001b[2m==2024.2\u001b[0m\n",
      " \u001b[32m+\u001b[39m \u001b[1mtzdata\u001b[0m\u001b[2m==2024.2\u001b[0m\n"
     ]
    }
   ],
   "source": [
    "!uv add pandas"
   ]
  },
  {
   "cell_type": "code",
   "execution_count": null,
   "id": "e7dd0f52-4702-4102-8cb1-f773d3270664",
   "metadata": {},
   "outputs": [],
   "source": []
  }
 ],
 "metadata": {
  "kernelspec": {
   "display_name": "project",
   "language": "python",
   "name": "project"
  },
  "language_info": {
   "codemirror_mode": {
    "name": "ipython",
    "version": 3
   },
   "file_extension": ".py",
   "mimetype": "text/x-python",
   "name": "python",
   "nbconvert_exporter": "python",
   "pygments_lexer": "ipython3",
   "version": "3.10.12"
  }
 },
 "nbformat": 4,
 "nbformat_minor": 5
}
